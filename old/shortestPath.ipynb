{
 "cells": [
  {
   "cell_type": "code",
   "execution_count": null,
   "metadata": {},
   "outputs": [],
   "source": [
    "import pandas as pd\n",
    "from datetime import datetime\n",
    "import numpy as np\n",
    "pd.set_option('display.expand_frame_repr', False)\n",
    "from typing import List\n",
    "import collections\n",
    "import json\n",
    "from copy import copy\n",
    "from queue import PriorityQueue"
   ]
  },
  {
   "cell_type": "code",
   "execution_count": null,
   "metadata": {},
   "outputs": [],
   "source": [
    "routes = pd.read_csv(\"../data/txt/routes.txt\", usecols=['route_id', 'route_long_name'])\n",
    "trips = pd.read_csv(\"../data/txt/trips.txt\", usecols=['route_id', 'service_id', 'trip_id'])\n",
    "stops = pd.read_csv(\"../data/txt/stops.txt\", usecols=['stop_id', 'stop_name'])\n",
    "stopTimes = pd.read_csv(\"../data/txt/stop_times.txt\",usecols=['trip_id', 'stop_id', 'arrival_time', 'departure_time'])\n",
    "calendar = pd.read_csv(\"../data/txt/calendar.txt\")\n",
    "calendar_date = pd.read_csv(\"../data/txt/calendar_dates.txt\")\n",
    "timetables = pd.read_csv('../data/csv/timetables.csv', sep='\\t')"
   ]
  },
  {
   "cell_type": "code",
   "execution_count": null,
   "metadata": {},
   "outputs": [],
   "source": [
    "result = pd.merge(routes, trips, on='route_id')\n",
    "result = pd.merge(result, stopTimes, on='trip_id')\n",
    "result = pd.merge(result, stops, on='stop_id')\n",
    "result = result[result['route_id'] == 'OCE1506035']\n",
    "\n",
    "#result['arrival_time'] = pd.to_datetime(result['arrival_time'])\n",
    "#result['departure_time'] = pd.to_datetime(result['departure_time'])\n",
    "#result['time'] = (result['departure_time'] - result['arrival_time'])\n",
    "result[['route_id', 'stop_name']].groupby('route_id').head(5)\n"
   ]
  },
  {
   "cell_type": "code",
   "execution_count": null,
   "metadata": {},
   "outputs": [],
   "source": [
    "class Queue:\n",
    "    def __init__(self):\n",
    "        self.elements = collections.deque()\n",
    "    \n",
    "    def empty(self) -> bool:\n",
    "        return not self.elements\n",
    "    \n",
    "    def put(self, x):\n",
    "        self.elements.append(x)\n",
    "    \n",
    "    def get(self):\n",
    "        return self.elements.popleft()\n",
    "    \n",
    "\n"
   ]
  },
  {
   "cell_type": "code",
   "execution_count": null,
   "metadata": {},
   "outputs": [],
   "source": [
    "q = PriorityQueue()\n",
    "q.put((0, 'a'))\n",
    "print(q.get()[1])"
   ]
  },
  {
   "cell_type": "code",
   "execution_count": null,
   "metadata": {},
   "outputs": [],
   "source": []
  },
  {
   "cell_type": "code",
   "execution_count": 132,
   "metadata": {
    "tags": []
   },
   "outputs": [
    {
     "name": "stdout",
     "output_type": "stream",
     "text": [
      "Gare de Gramat\n",
      "Gare de Figeac\n",
      "Gare de Aurillac\n"
     ]
    }
   ],
   "source": [
    "class SimpleGraph:\n",
    "    def __init__(self):\n",
    "        self.edges: Dict[Location, Dict[string, float]] = {}\n",
    "        timetables = pd.read_csv('../data/csv/timetables.csv', sep='\\t',encoding='ISO-8859-1')\n",
    "        for index, row in timetables.iterrows():\n",
    "            stopName = row['trajet'].split(' - ')\n",
    "            time = row['duree']\n",
    "            if stopName[0] in self.edges:\n",
    "                self.edges[stopName[0]].update({stopName[1]: time})\n",
    "            else:\n",
    "                self.edges[stopName[0]] = {stopName[1]: time}\n",
    "\n",
    "            if not stopName[1] in self.edges:\n",
    "                self.edges[stopName[1]] = {}\n",
    "\n",
    "    def print(self):\n",
    "        print(json.dumps(self.vertex, sort_keys=True, indent=4,ensure_ascii=True))\n",
    "    \n",
    "    def neighbors(self, id ) -> List:\n",
    "        return self.edges[id]\n",
    "        \n",
    "    def initVertex(self, start):\n",
    "        inf = float('inf')\n",
    "        self.vertex: Dict[string, Dict[float, string]] = {}\n",
    "        for row in self.edges:\n",
    "            self.vertex[row] = {'min': inf, 'from': ''}\n",
    "        self.vertex[start]['min'] = 0\n",
    "\n",
    "    def updateVertex(self, start):\n",
    "        visited = []\n",
    "        unvisited = PriorityQueue()\n",
    "        unvisited.put((0, start))\n",
    "\n",
    "        while not unvisited.empty():\n",
    "            current = unvisited.get()[1]\n",
    "            for n in self.neighbors(current):\n",
    "                actualCost = self.vertex[n]['min']\n",
    "                newCost = self.vertex[current]['min'] + self.edges[current][n]\n",
    "                if newCost < actualCost:\n",
    "                    self.vertex[n]['min'] = min(actualCost, newCost)\n",
    "                    self.vertex[n]['from'] = current\n",
    "                unvisited.put((self.vertex[n]['min'], n))\n",
    "            visited.append(current)\n",
    "\n",
    "    def getPath(self, start, end):\n",
    "        self.initVertex(start)\n",
    "        self.updateVertex(start)\n",
    "        q = Queue()\n",
    "        res = Queue()\n",
    "        q.put(end)\n",
    "        current = end\n",
    "        result = []\n",
    "        try:\n",
    "            while current != start:\n",
    "                current = self.vertex[current]['from']\n",
    "                q.put(current)\n",
    "            while not q.empty():\n",
    "                t = q.get()\n",
    "                result.append(t)\n",
    "                print(t)\n",
    "                return result\n",
    "        except KeyError:\n",
    "            print('pas de chemin')\n",
    "\n",
    "        \n",
    "\n",
    "        #while not res.empty():\n",
    "            #print(res.get())\n",
    "\n",
    "graph = SimpleGraph()\n",
    "'''graph.edges = {\n",
    "    'A': {'B': 15, 'C': 11},\n",
    "    'B': {'D': 5},\n",
    "    'C': {'D': 1},\n",
    "    'E': {'B': 1},\n",
    "    'D': {},\n",
    "}'''\n",
    "\n",
    "'''graph.edges = {\n",
    "    'Gare de Bourges' : {\"Gare de Ne'vers\": 38, 'Gare de Paris-Austerlitz': 122},\n",
    "\t\"Gare de Nevers' : {'Gare de Paris-Bercy': 154},\n",
    "    'Gare de Paris-Austerlitz': {},\n",
    "    'Gare de Paris-Bercy': {},\n",
    "    'bad': {}\n",
    "}'''\n",
    "#graph.getPath('A', 'D')\n",
    "#graph.edges['Gare de Serquigny']\n",
    "graph.getPath('Gare de Aurillac', 'Gare de Gramat')"
   ]
  }
 ],
 "metadata": {
  "kernelspec": {
   "display_name": "Python 3.8.2 64-bit",
   "metadata": {
    "interpreter": {
     "hash": "5edc29c2ed010d6458d71a83433b383a96a8cbd3efe8531bc90c4b8a5b8bcec9"
    }
   },
   "name": "python3"
  },
  "language_info": {
   "codemirror_mode": {
    "name": "ipython",
    "version": 3
   },
   "file_extension": ".py",
   "mimetype": "text/x-python",
   "name": "python",
   "nbconvert_exporter": "python",
   "pygments_lexer": "ipython3",
   "version": "3.8.2-final"
  },
  "orig_nbformat": 2
 },
 "nbformat": 4,
 "nbformat_minor": 2
}
