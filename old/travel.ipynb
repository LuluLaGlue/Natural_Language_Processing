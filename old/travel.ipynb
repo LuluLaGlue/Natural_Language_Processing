{
 "metadata": {
  "language_info": {
   "codemirror_mode": {
    "name": "ipython",
    "version": 3
   },
   "file_extension": ".py",
   "mimetype": "text/x-python",
   "name": "python",
   "nbconvert_exporter": "python",
   "pygments_lexer": "ipython3",
   "version": "3.8.2-final"
  },
  "orig_nbformat": 2,
  "kernelspec": {
   "name": "python3",
   "display_name": "Python 3.8.2 64-bit",
   "metadata": {
    "interpreter": {
     "hash": "5edc29c2ed010d6458d71a83433b383a96a8cbd3efe8531bc90c4b8a5b8bcec9"
    }
   }
  }
 },
 "nbformat": 4,
 "nbformat_minor": 2,
 "cells": [
  {
   "cell_type": "code",
   "execution_count": null,
   "source": [
    "result = pd.merge(routes, trips, on='route_id')\n",
    "result = pd.merge(result, stopTimes, on='trip_id')\n",
    "result = pd.merge(result, stops, on='stop_id')\n",
    "result = result[result['route_id'] == 'OCE1506035']\n",
    "\n",
    "#result['arrival_time'] = pd.to_datetime(result['arrival_time'])\n",
    "#result['departure_time'] = pd.to_datetime(result['departure_time'])\n",
    "#result['time'] = (result['departure_time'] - result['arrival_time'])\n",
    "result[['route_id', 'stop_name']].groupby('route_id').head(5)\n"
   ],
   "outputs": [],
   "metadata": {
    "tags": []
   }
  },
  {
   "cell_type": "code",
   "execution_count": 55,
   "source": [
    "import pandas as pd\n",
    "from datetime import datetime\n",
    "import numpy as np\n",
    "pd.set_option('display.expand_frame_repr', False)\n",
    "from typing import List\n",
    "import collections\n",
    "import json\n",
    "from copy import copy\n",
    "from queue import PriorityQueue\n",
    "\n"
   ],
   "outputs": [],
   "metadata": {}
  },
  {
   "cell_type": "code",
   "execution_count": null,
   "source": [
    "routes = pd.read_csv(\"../data/txt/routes.txt\", usecols=['route_id', 'route_long_name'])\n",
    "trips = pd.read_csv(\"../data/txt/trips.txt\", usecols=['route_id', 'service_id', 'trip_id'])\n",
    "stops = pd.read_csv(\"../data/txt/stops.txt\", usecols=['stop_id', 'stop_name'])\n",
    "stopTimes = pd.read_csv(\"../data/txt/stop_times.txt\",usecols=['trip_id', 'stop_id', 'arrival_time', 'departure_time'])\n",
    "calendar = pd.read_csv(\"../data/txt/calendar.txt\")\n",
    "calendar_date = pd.read_csv(\"../data/txt/calendar_dates.txt\")\n",
    "timetables = pd.read_csv('../data/csv/timetables.csv', sep='\\t')"
   ],
   "outputs": [],
   "metadata": {}
  },
  {
   "cell_type": "code",
   "execution_count": null,
   "source": [
    "timetables.head()"
   ],
   "outputs": [],
   "metadata": {}
  },
  {
   "cell_type": "code",
   "execution_count": 54,
   "source": [
    "class Queue:\n",
    "    def __init__(self):\n",
    "        self.elements = collections.deque()\n",
    "    \n",
    "    def empty(self) -> bool:\n",
    "        return not self.elements\n",
    "    \n",
    "    def put(self, x):\n",
    "        self.elements.append(x)\n",
    "    \n",
    "    def get(self):\n",
    "        return self.elements.popleft()\n",
    "\n"
   ],
   "outputs": [],
   "metadata": {}
  },
  {
   "cell_type": "code",
   "execution_count": 127,
   "source": [
    "class SimpleGraph:\n",
    "    def __init__(self):\n",
    "        self.edges: Dict[Location, Dict[string, float]] = {}\n",
    "        timetables = pd.read_csv('../data/csv/timetables.csv', sep='\\t')\n",
    "        for index, row in timetables.iterrows():\n",
    "            stopName = row['trajet'].split(' - ')\n",
    "            time = row['duree']\n",
    "            self.edges[stopName[0]] = {stopName[1]: time}\n",
    "\n",
    "            if not stopName[1] in self.edges:\n",
    "                self.edges[stopName[1]] = {}\n",
    "    \n",
    "    def neighbors(self, id ) -> List:\n",
    "        return self.edges[id]\n",
    "        \n",
    "    def initVertex(self, start):\n",
    "        inf = float('inf')\n",
    "        self.vertex: Dict[string, Dict[float, string]] = {}\n",
    "        for row in self.edges:\n",
    "            self.vertex[row] = {'min': inf, 'from': ''}\n",
    "        self.vertex[start]['min'] = 0\n",
    "\n",
    "\n",
    "    def updateVertex(self, start):\n",
    "        visited = Queue()\n",
    "        unvisited = Queue()\n",
    "        for row in self.vertex:\n",
    "            unvisited.put(row)\n",
    "\n",
    "        while not unvisited.empty():\n",
    "            current = unvisited.get()\n",
    "            for n in self.neighbors(current):\n",
    "                actualCost = self.vertex[n]['min']\n",
    "                newCost = self.vertex[current]['min'] + self.edges[current][n]\n",
    "                if newCost < actualCost:\n",
    "                    self.vertex[n]['min'] = min(actualCost, newCost)\n",
    "                    self.vertex[n]['from'] = current\n",
    "            visited.put(current)\n",
    "    \n",
    "    def getPath(self, start, end):\n",
    "        self.initVertex(start)\n",
    "        self.updateVertex(start)\n",
    "        q = Queue()\n",
    "        res = Queue()\n",
    "        q.put(end)\n",
    "        current = end\n",
    "        print(self.vertex[end])\n",
    "        while current != start:\n",
    "            current = self.vertex[current]['from']\n",
    "            q.put(current)\n",
    "        \n",
    "        while not q.empty():\n",
    "            t = q.get()\n",
    "            res.put(t)\n",
    "        \n",
    "        while not res.empty():\n",
    "            print(res.get())\n",
    "        print('opla')\n",
    "\n",
    "graph = SimpleGraph()\n",
    "graph.edges = {\n",
    "    'A': {'B': 15, 'C': 11},\n",
    "    'B': {'D': 5, 'E': 20},\n",
    "    'C': {'D': 1},\n",
    "    'E': {'B': 1},\n",
    "    'D': {},\n",
    "}\n",
    "graph.getPath('A', 'D')\n",
    "\n",
    "#graph.edges\n",
    "#graph.edges['Gare de Serquigny']\n",
    "#graph.getPath('Gare de Lyon-Part-Dieu', 'Gare de Valence-Ville')"
   ],
   "outputs": [
    {
     "output_type": "stream",
     "name": "stdout",
     "text": [
      "{'min': 12, 'from': 'C'}\n",
      "D\n",
      "C\n",
      "A\n",
      "opla\n"
     ]
    }
   ],
   "metadata": {
    "tags": []
   }
  }
 ]
}